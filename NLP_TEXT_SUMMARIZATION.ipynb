{
 "cells": [
  {
   "cell_type": "code",
   "execution_count": 1,
   "id": "eb743dc5",
   "metadata": {},
   "outputs": [
    {
     "name": "stdout",
     "output_type": "stream",
     "text": [
      "[nltk_data] Downloading package stopwords to\n",
      "[nltk_data]     C:\\Users\\abdul\\AppData\\Roaming\\nltk_data...\n",
      "[nltk_data]   Package stopwords is already up-to-date!\n",
      "[nltk_data] Downloading package punkt to\n",
      "[nltk_data]     C:\\Users\\abdul\\AppData\\Roaming\\nltk_data...\n",
      "[nltk_data]   Package punkt is already up-to-date!\n"
     ]
    }
   ],
   "source": [
    "from bs4 import BeautifulSoup\n",
    "import nltk\n",
    "import re\n",
    "nltk.download('stopwords')\n",
    "nltk.download('punkt')\n",
    "from nltk.corpus import stopwords\n",
    "from nltk.tokenize import word_tokenize, sent_tokenize\n"
   ]
  },
  {
   "cell_type": "code",
   "execution_count": 11,
   "id": "dcf352e8",
   "metadata": {},
   "outputs": [],
   "source": [
    "fname = 'D:/PROJECTS/Internshala_runs and scripts/ws/assignment.html'\n",
    "HTMLFile = open(fname, encoding=\"utf8\")\n",
    "index = HTMLFile.read()\n",
    "S = BeautifulSoup(index, 'html.parser')\n",
    "#S"
   ]
  },
  {
   "cell_type": "code",
   "execution_count": 12,
   "id": "2294c92f",
   "metadata": {
    "scrolled": true
   },
   "outputs": [],
   "source": [
    "def summarisePara(text,affect=1.2):\n",
    "    stopWords = set(stopwords.words(\"english\"))  #remove words like in a, as etc\n",
    "    words = word_tokenize(text)  #tokenise the words\n",
    "    freqTable = dict()\n",
    "    for word in words:   #create a freq table and add no of occureneces of each word\n",
    "        word = word.lower()\n",
    "        if word in stopWords:\n",
    "            continue\n",
    "        if word in freqTable:\n",
    "            freqTable[word] += 1\n",
    "        else:\n",
    "            freqTable[word] = 1        \n",
    "    sentences = sent_tokenize(text)  #tokeinize the sentences\n",
    "    sentenceValue = dict()\n",
    "\n",
    "    for sentence in sentences:   #count freq of sentences according to the words and thier frequencies\n",
    "        for word, freq in freqTable.items():\n",
    "            if word in sentence.lower():\n",
    "                if sentence in sentenceValue:\n",
    "                    sentenceValue[sentence] += freq\n",
    "                else:\n",
    "                    sentenceValue[sentence] = freq\n",
    "    sumValues = 0\n",
    "    for sentence in sentenceValue: # add all the frequency value of all relevant sentences into one total variable\n",
    "        sumValues += sentenceValue[sentence]\n",
    "    average = int(sumValues / len(sentenceValue))  #get average of releavant senetences\n",
    "    summary = ''\n",
    "    for sentence in sentences:\n",
    "        if (sentence in sentenceValue) and (sentenceValue[sentence] > (affect * average)):  #the probabaility of the sentence being relevant\n",
    "            summary += \" \" + sentence                                                    #is determined by its variance from the custum average \n",
    "    return summary                                                                       #set by the user\n",
    "\n",
    "def beutifyDic(dic):\n",
    "    str_fmt = \"{:<30} {:<15}\"\n",
    "    for k, v in dic.items():\n",
    "        print(str_fmt.format(k, v))\n",
    "def removemeta(string):\n",
    "    output=string.replace('\\u200b', '').replace('  ', ' ').replace('\\xa0', '').replace('\\n',\" \")#irrelevant characters and stuff\n",
    "    output=re.sub(\"\\[.*\\]\", '' , output) #citations\n",
    "    return output"
   ]
  },
  {
   "cell_type": "code",
   "execution_count": 13,
   "id": "536df3cc",
   "metadata": {},
   "outputs": [
    {
     "data": {
      "text/plain": [
       "'Thomas Edison'"
      ]
     },
     "execution_count": 13,
     "metadata": {},
     "output_type": "execute_result"
    }
   ],
   "source": [
    "#EXTRACT HEADING\n",
    "heading=S.find('h1').get_text().strip()\n",
    "heading"
   ]
  },
  {
   "cell_type": "code",
   "execution_count": 14,
   "id": "c392b904",
   "metadata": {
    "scrolled": true
   },
   "outputs": [
    {
     "name": "stdout",
     "output_type": "stream",
     "text": [
      "Born                           Thomas Alva Edison(1847-02-11)February 11, 1847Milan, Ohio, U.S.\n",
      "Died                           October 18, 1931(1931-10-18) (aged84)West Orange, New Jersey, U.S.\n",
      "Burial place                   Thomas Edison National Historical Park\n",
      "Nationality                    American       \n",
      "Education                      Self-educated; some coursework at Cooper Union\n",
      "Occupation                     Inventor, businessman\n",
      "Years active                   1877–1930      \n",
      "Spouse(s)                      Mary Stilwell   (m.1871; d.1884)Mina Miller  (m.1886)\n",
      "Children                       6, including Madeleine Edison, Charles Edison, Theodore Miller Edison, Thomas Alva Edison Jr.\n",
      "Relatives                      Lewis Miller (father-in-law)\n"
     ]
    }
   ],
   "source": [
    "#EXTRACT BIODATA BLOCK\n",
    "\n",
    "bio_data = S.find_all('td',{'class':'infobox-data'})\n",
    "key_data = S.find_all('th',{'class':'infobox-label'})\n",
    "bio_data_text = [tag.get_text().strip() for tag in bio_data]\n",
    "key_data_text = [tag.get_text().strip() for tag in key_data]\n",
    "res = {}\n",
    "cleaned_bio=[]\n",
    "for i,h in enumerate(bio_data_text):\n",
    "    h=removemeta(h)\n",
    "    cleaned_bio.append(h)\n",
    "for key in key_data_text:\n",
    "    for value in cleaned_bio:\n",
    "        res[key] = value\n",
    "        cleaned_bio.remove(value)\n",
    "        break  \n",
    "beutifyDic(res)"
   ]
  },
  {
   "cell_type": "code",
   "execution_count": 15,
   "id": "1393baf5",
   "metadata": {},
   "outputs": [],
   "source": [
    "#GET BODY DATA\n",
    "p_tags = S.find_all('p')\n",
    "p_tags_text = [tag.get_text().strip() for tag in p_tags]\n",
    "for i in range(len(p_tags_text)):\n",
    "    p_tags_text[i]=removemeta(p_tags_text[i])\n",
    "#p_tags_text"
   ]
  },
  {
   "cell_type": "code",
   "execution_count": 16,
   "id": "22346712",
   "metadata": {},
   "outputs": [],
   "source": [
    "final=''.join(p_tags_text)\n",
    "#final"
   ]
  },
  {
   "cell_type": "code",
   "execution_count": 9,
   "id": "f210f5ed",
   "metadata": {
    "scrolled": true
   },
   "outputs": [],
   "source": [
    "summ= summarisePara(final,1.3)"
   ]
  },
  {
   "cell_type": "code",
   "execution_count": 10,
   "id": "524c8f56",
   "metadata": {},
   "outputs": [
    {
     "name": "stdout",
     "output_type": "stream",
     "text": [
      "lenght of originial= 35392\n",
      "lenght of summary= 14148\n"
     ]
    }
   ],
   "source": [
    "print(\"lenght of originial=\",len(final))\n",
    "print(\"lenght of summary=\",len(summ))"
   ]
  },
  {
   "cell_type": "code",
   "execution_count": 213,
   "id": "174afbf5",
   "metadata": {
    "scrolled": false
   },
   "outputs": [
    {
     "name": "stdout",
     "output_type": "stream",
     "text": [
      "THOMAS EDISON\n",
      "\n",
      "DATA :\n",
      "\n",
      "Born                           Thomas Alva Edison(1847-02-11)February 11, 1847Milan, Ohio, U.S.\n",
      "Died                           October 18, 1931(1931-10-18) (aged84)West Orange, New Jersey, U.S.\n",
      "Burial place                   Thomas Edison National Historical Park\n",
      "Nationality                    American       \n",
      "Education                      Self-educated; some coursework at Cooper Union\n",
      "Occupation                     Inventor, businessman\n",
      "Years active                   1877–1930      \n",
      "Spouse(s)                      Mary Stilwell   (m.1871; d.1884)Mina Miller  (m.1886)\n",
      "Children                       6, including Madeleine Edison, Charles Edison, Theodore Miller Edison, Thomas Alva Edison Jr.\n",
      "Relatives                      Lewis Miller (father-in-law)\n",
      "SUMMARY :\n",
      "\n",
      " Thomas Alva Edison (February 11, 1847– October 18, 1931) was an American inventor and businessman who has been described as America's greatest inventor.Edison was raised in the American Midwest; early in his career, he worked as a telegraph operator, which inspired some of his earliest inventions. He turned a $50-a-week profit by age 13, most of which went to buying equipment for electrical and chemical experiments.Edison obtained the exclusive right to sell newspapers on the road, and, with the aid of four assistants, he set in type and printed the Grand Trunk Herald, which he sold with his other papers.In 1866, at the age of 19, Edison moved to Louisville, Kentucky, where, as an employee of Western Union, he worked the Associated Press bureau news wire. The next morning Edison was fired.His first patent was for the electric vote recorder, U.S. Patent 90,646, which was granted on June 1, 1869.Edison's major innovation was the establishment of an industrial research lab in 1876. It was built in Menlo Park, a part of Raritan Township (now named Edison Township in his honor) in Middlesex County, New Jersey, with the funds from the sale of Edison's quadruplex telegraph. He was surprised to hear them offer $10,000 ($228,700 in today's dollars The quadruplex telegraph was Edison's first big financial success, and Menlo Park became the first institution set up with the specific purpose of producing constant technological innovation and improvement. According to Edison, Hammer was \"a pioneer of incandescent electric lighting\".Nearly all of Edison's patents were utility patents, which were protected for 17 years and included inventions or processes that are electrical, mechanical, or chemical in nature. The phonograph patent, in contrast, was unprecedented in describing the first device to record and reproduce sounds.In just over a decade, Edison's Menlo Park laboratory had expanded to occupy two city blocks. This slogan was reputedly posted at several other locations throughout the facility.In Menlo Park, Edison had created the first industrial laboratory concerned with creating knowledge and then controlling its application.Edison began his career as an inventor in Newark, New Jersey, with the automatic repeater and his other improved telegraphic devices, but the invention that first gained him wider notice was the phonograph in 1877.His first phonograph recorded on tinfoil around a grooved cylinder. he did little to develop it until Alexander Graham Bell, Chichester Bell, and Charles Tainter produced a phonograph-like device in the 1880s that used wax-coated cardboard cylinders.In 1876, Edison began work to improve the microphone for telephones (at that time called a \"transmitter\") by developing a carbon microphone, which consists of two metal plates separated by granules of carbon that would change resistance with the pressure of sound waves. and was used in all telephones along with the Bell receiver until the 1980s.In 1878, Edison began working on a system of electrical illumination, something he hoped could compete with gas and oil-based lighting. William E. Sawyer, Joseph Swan, and Heinrich Göbel.These early bulbs all had flaws such as an extremely short life and requiring a high electric current to operate which made them difficult to apply on a large scale commercially.The patent described several ways of creating the carbon filament including \"cotton and linen thread, wood splints, papers coiled in various ways\".In 1878, Edison formed the Edison Electric Light Company in New York City with several financiers, including J. P. Morgan, Spencer Trask,Henry Villard, president of the Oregon Railroad and Navigation Company, attended Edison's 1879 demonstration. Villard was impressed and requested Edison install his electric lighting system aboard Villard's company's new steamer, the Columbia. Most of the work was completed in May 1880, and the Columbia went to New York City, where Edison and his personnel installed Columbia's new lighting system. The Edison equipment was removed from Columbia in 1895.In 1880, Lewis Latimer, a draftsman and an expert witness in patent litigation, began working for the United States Electric Lighting Company run by Edison's rival Hiram S. Maxim. Latimer holds the patent for the electric lamp issued in 1881, and a second patent for the “process of manufacturing carbons” (the filament used in incandescent light bulbs), issued in 1882.On October 8, 1883, the US patent office ruled that Edison's patent was based on the work of William E. Sawyer and was, therefore, invalid. To avoid a possible court battle with yet another competitor, Joseph Swan, whose British patent had been awarded a year before Edison's, he and Swan formed a joint company called Ediswan to manufacture and market the invention in Britain.Mahen Theatre in Brno (in what is now the Czech Republic), opened in 1882, and was the first public building in the world to use Edison's electric lamps. Francis Jehl, Edison's assistant in the invention of the lamp, supervised the installation.After devising a commercially viable electric light bulb on October 21, 1879, Edison developed an electric \"utility\" to compete with the existing gas light utilities.In January 1882, Edison switched on the first steam-generating power station at Holborn Viaduct in London. On January 19, 1883, the first standardized incandescent electric lighting system employing overhead wires began service in Roselle, New Jersey.As Edison expanded his direct current (DC) power delivery system, he received stiff competition from companies installing alternating current (AC) systems. This allowed AC to be used in street lighting and in lighting for small business and domestic customers, the market Edison's patented low voltage DC incandescent lamp system was designed to supply. Edison's DC plants could not deliver electricity to customers more than one mile from the plant, and left a patchwork of unsupplied customers between plants. Edison took advantage of the public perception of AC as dangerous, and joined with self-styled New York anti-AC crusader Harold P. Brown in a propaganda campaign, aiding Brown in the public electrocution of animals with AC, and supported legislation to control and severely limit AC installations and voltages (to the point of making it an ineffective power delivery system) in what was now being referred to as a \"battle of currents\". The development of the electric chair was used in an attempt to portray AC as having a greater lethal potential than DC and smear Westinghouse at the same time via Edison colluding with Brown and Westinghouse's chief AC rival, the Thomson-Houston Electric Company, to make sure the first electric chair was powered by a Westinghouse AC generator.Thomas Edison's staunch anti-AC tactics were not sitting well with his own stockholders. General Electric now controlled three-quarters of the US electrical business and would compete with Westinghouse for the AC market.Edison moved from Menlo Park after the death of his first wife, Mary, in 1884, and purchased a home known as \"Glenmont\" in 1886 as a wedding gift for his second wife, Mina, in Llewellyn Park in West Orange, New Jersey. In 1885, Thomas Edison bought 13 acres of property in Fort Myers, Florida, for roughly $2,750 and built what was later called Seminole Lodge as a winter retreat.Due to the security concerns around World War I, Edison suggested forming a science and industry committee to provide advice and research to the US military, and he headed the Naval Consulting Board in 1915.Edison became concerned with America's reliance on foreign supply of rubber and was determined to find a native supply of rubber. Edison's work on rubber took place largely at his research laboratory in Fort Myers, which has been designated as a National Historic Chemical Landmark.The laboratory was built after Thomas Edison, Henry Ford, and Harvey Firestone pulled together $75,000 to form the Edison Botanical Research Corporation. Edison employed a two-part Acid-base extraction, to derive latex from the plant material after it was dried and crushed to a powder.During the 1911 New York Electrical show, Edison told representatives of the copper industry it was a shame he didn't have a \"chunk of it\". Until Edison discovered that calcium tungstate fluoroscopy screens produced brighter images than the barium platinocyanide screens originally used by Wilhelm Röntgen, the technology was capable of producing only very faint images.The fundamental design of Edison's fluoroscope is still in use today, although Edison abandoned the project after nearly losing his own eyesight and seriously injuring his assistant, Clarence Dally. Dally made himself an enthusiastic human guinea pig for the fluoroscopy project and was exposed to a poisonous dose of radiation; he later died (at the age of 39) of injuries related to the exposure, mediastinal cancer.In 1903, a shaken Edison said: \"Don't talk to me about X-rays, I am afraid of them. Much of the credit for the invention belongs to Dickson.In April 1896, Thomas Armat's Vitascope, manufactured by the Edison factory and marketed in Edison's name, was used to project motion pictures in public screenings in New York City. In 1903, when the owners of Luna Park, Coney Island announced they would execute Topsy the elephant by strangulation, poisoning, and electrocution (with the electrocution part ultimately killing the elephant), Edison Manufacturing sent a crew to film it, releasing it that same year with the title Electrocuting an Elephant.As the film business expanded, competing exhibitors routinely copied and exhibited each other's films.In 1908, Edison started the Motion Picture Patents Company, which was a conglomerate of nine major film studios (commonly known as the Edison Trust). A street in Falconbridge, as well as the Edison Building, which served as the head office of Falconbridge Mines, are named for him.In the late 1890s, Edison worked on developing a lighter, more efficient rechargeable battery (at that time called an \"accumulator\"). He looked on them as something customers could use to power their phonographs but saw other uses for an improved battery, including electric automobiles.Edison obtained a US and European patent for his nickel–iron battery in 1901 and founded the Edison Storage Battery Company, and by 1904 it had 450 people working there. Despite his frail condition, Edison was at the throttle of the first electric MU (Multiple-Unit) train to depart Lackawanna Terminal in Hoboken in September 1930, driving the train the first mile through Hoboken yard on its way to South Orange.This fleet of cars would serve commuters in northern New Jersey for the next 54 years until their retirement in 1984. A plaque commemorating Edison's inaugural ride can be seen today in the waiting room of Lackawanna Terminal in Hoboken, which is presently operated by New Jersey Transit.Edison was said to have been influenced by a popular fad diet in his last few years; \"the only liquid he consumed was a pint of milk every three hours\".Edison became the owner of his Milan, Ohio, birthplace in 1906. They had three children:Mary Edison died at age 29 on August 9, 1884, of unknown causes: possibly from a brain tumorEdison generally preferred spending time in the laboratory to being with his family.On February 24, 1886, at the age of 39, Edison married the 20-year-old Mina Miller (1865–1947) in Akron, Ohio. They also had three children together:Mina outlived Thomas Edison, dying on August 24, 1947.Wanting to be an inventor, but not having much of an aptitude for it, Thomas Edison's son, Thomas Alva Edison Jr., became a problem for his father and his father's business. \"In May 1922, he published a proposal, entitled \"A Proposed Amendment to the Federal Reserve Banking System\".The following is an incomplete list of awards given to Edison during his lifetime and posthumously:Several places have been named after Edison, most notably the town of Edison, New Jersey. Two community colleges are named for him: Edison State College (now Florida SouthWestern State College) in Fort Myers, Florida, and Edison Community College in Piqua, Ohio.The small town of Alva just east of Fort Myers took Edison's middle name.In 1883, the City Hotel in Sunbury, Pennsylvania was the first building to be lit with Edison's three-wire system. The hotel was renamed The Hotel Edison upon Edison's return to the city on 1922.In 1954, Lake Thomas A Edison in California was named after Edison to mark the 75th anniversary of the incandescent light bulb.Edison was on hand to turn on the lights at the Hotel Edison in New York City when it opened in 1931.Three bridges around the United States have been named in Edison's honor: the Edison Bridge in New Jersey,In space, his name is commemorated in asteroid 742 Edisona.Mount Edison in the Chugach Mountains of Alaska was named after him in 1955.In West Orange, New Jersey, the 13.5 acres (5.5 hectares) Glenmont estate is maintained and operated by the National Park Service as the Edison National Historic Site, as is his nearby laboratory and workshops including the reconstructed \"Black Maria\"—the world's first movie studio. On the same night, The Edison Institute was dedicated in nearby Dearborn.He was inducted into the Automotive Hall of Fame in 1969.Henry Ford had Edison's name inscribed over the main doorway of the Ford Engineering Laboratory.A bronze statue of Edison was placed in the National Statuary Hall Collection at the United States Capitol in 2016, with the formal dedication ceremony held on September 20 of that year. The award is an annual Dutch music prize, awarded for outstanding achievements in the music industry, and is one of the oldest music awards in the world, having been presented since 1960.The American Society of Mechanical Engineers has awarded the Thomas A. Edison Patent Award since 1997 to individual patents that demonstrate a significant impact on the practice of mechanical engineering.The United States Navy named the USS Edison (DD-439), a Gleaves class destroyer, in his honor in 1940.\n"
     ]
    }
   ],
   "source": [
    "#FINAL CONCAT\n",
    "\n",
    "print(heading.upper()+'\\n')\n",
    "print(\"DATA :\\n\")\n",
    "beutifyDic(res)\n",
    "print(\"SUMMARY :\\n\")\n",
    "print(summ)"
   ]
  },
  {
   "cell_type": "code",
   "execution_count": 109,
   "id": "24ac1acf",
   "metadata": {},
   "outputs": [],
   "source": []
  },
  {
   "cell_type": "code",
   "execution_count": null,
   "id": "8094c8f9",
   "metadata": {},
   "outputs": [],
   "source": []
  },
  {
   "cell_type": "code",
   "execution_count": null,
   "id": "cddf609f",
   "metadata": {},
   "outputs": [],
   "source": []
  },
  {
   "cell_type": "code",
   "execution_count": null,
   "id": "c187e56d",
   "metadata": {},
   "outputs": [],
   "source": []
  },
  {
   "cell_type": "code",
   "execution_count": null,
   "id": "66bcc678",
   "metadata": {},
   "outputs": [],
   "source": []
  }
 ],
 "metadata": {
  "kernelspec": {
   "display_name": "Python 3",
   "language": "python",
   "name": "python3"
  },
  "language_info": {
   "codemirror_mode": {
    "name": "ipython",
    "version": 3
   },
   "file_extension": ".py",
   "mimetype": "text/x-python",
   "name": "python",
   "nbconvert_exporter": "python",
   "pygments_lexer": "ipython3",
   "version": "3.7.0"
  }
 },
 "nbformat": 4,
 "nbformat_minor": 5
}
